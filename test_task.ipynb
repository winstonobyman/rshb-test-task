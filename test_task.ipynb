{
 "cells": [
  {
   "cell_type": "markdown",
   "metadata": {},
   "source": [
    "### 3. Сбор данных"
   ]
  },
  {
   "cell_type": "markdown",
   "metadata": {},
   "source": [
    "Соберите отзывы (3-5 разных классов) о Россельхозбанке с сайта Банки.ру. Например, класс “Обслуживание” или “Кредит”.\n",
    "\n",
    "Можно воспользоваться [ссылкой на сайт](https://www.banki.ru/services/responses/bank/rshb/).\n",
    "\n",
    "Способ получения данных выберите самостоятельно — можете собирать вручную или написать код для парсинга данных.\n",
    "\n",
    "Убедитесь, что вы имеете достаточно данных по каждому классу.\n",
    "Чем больше отзывов вы соберете — тем лучше."
   ]
  },
  {
   "cell_type": "markdown",
   "metadata": {},
   "source": [
    "Выберу классы: <br>\n",
    "1. Дебетовая карта *(83 страницы)*\n",
    "2. Ипотека *(117 страниц)*\n",
    "3. Потребительский кредит *(53 страницы)*\n",
    "4. Вклад *(74 страницы)*"
   ]
  },
  {
   "cell_type": "markdown",
   "metadata": {},
   "source": [
    "Будут собраны следующие данные для каждого класса:\n",
    "1. Заголовок\n",
    "2. Текст отзыва\n",
    "3. URL отзыва\n",
    "4. Оценка\n",
    "5. Дата\n",
    "6. Класс {'debitcard', 'credit', 'deposit', 'hypothec'}"
   ]
  },
  {
   "cell_type": "code",
   "execution_count": 161,
   "metadata": {},
   "outputs": [],
   "source": [
    "# импортируем необходимые библиотеки\n",
    "import requests \n",
    "from bs4 import BeautifulSoup\n",
    "\n",
    "import pandas as pd"
   ]
  },
  {
   "cell_type": "code",
   "execution_count": 128,
   "metadata": {},
   "outputs": [],
   "source": [
    "# Ссылки: \n",
    "# Потребительский кредит:\n",
    "link_credits = 'https://www.banki.ru/services/responses/bank/rshb/product/credits/?page='\n",
    "# Ипотека: \n",
    "link_hypothec = 'https://www.banki.ru/services/responses/bank/rshb/product/hypothec/?page='\n",
    "# Дебетовая карта: \n",
    "link_debitcards = 'https://www.banki.ru/services/responses/bank/rshb/product/debitcards/?page='\n",
    "# Вклад: \n",
    "link_deposits = 'https://www.banki.ru/services/responses/bank/rshb/product/deposits/?page='"
   ]
  },
  {
   "cell_type": "code",
   "execution_count": 169,
   "metadata": {},
   "outputs": [],
   "source": [
    "# получить список словарей данных для страницы (bs) и присвоить им класс label \n",
    "def get_info_for_bs_page(bs, label):\n",
    "    responses = bs.find_all(class_='responses__item')\n",
    "    result = [{\n",
    "            'title': i.find('a').text,\n",
    "            'url': 'banki.ru' + i.find('a')['href'],\n",
    "            'text': i.find(class_='responses__item__message markup-inside-small markup-inside-small--bullet').text.strip(), \n",
    "            'score': int(i.find(class_='rating-grade').text.strip()) if i.find(class_='rating-grade') else None,\n",
    "            'date': i.find('time', class_='display-inline-block').text,\n",
    "            'label': label\n",
    "    } for i in responses]\n",
    "        \n",
    "    return result"
   ]
  },
  {
   "cell_type": "code",
   "execution_count": 191,
   "metadata": {
    "scrolled": true
   },
   "outputs": [],
   "source": [
    "# получить все страницы по выбранной ссылке (lin_reviews) с выбранным классом (label)\n",
    "def get_all_reviews(link_reviews, label):\n",
    "    # изменим заголовки, чтобы сайт не блокировал запросы\n",
    "    session = requests.Session() \n",
    "    session.headers['Accept'] = 'text/html,application/xhtml+xml,application/xml;q=0.9,image/avif,image/webp,image/apng,*/*;q=0.8,application/signed-exchange;v=b3;q=0.9'\n",
    "    session.headers['User-Agent'] = 'Mozilla/5.0 (Windows NT 10.0; Win64; x64) AppleWebKit/537.36 (KHTML, like Gecko) Chrome/86.0.4240.198 Safari/537.36'\n",
    "\n",
    "\n",
    "    all_reviews = []\n",
    "    i = 1\n",
    "    while 1:\n",
    "        req = session.get(link_reviews + str(i))\n",
    "        if req.status_code == 404:\n",
    "            break\n",
    "        bs = BeautifulSoup(req.text)\n",
    "        all_reviews.extend(get_info_for_bs_page(bs, label))\n",
    "        print(f'Got results for {label}, page {i}')\n",
    "        i += 1\n",
    "    return all_reviews"
   ]
  },
  {
   "cell_type": "markdown",
   "metadata": {},
   "source": [
    "### Кредит"
   ]
  },
  {
   "cell_type": "code",
   "execution_count": 174,
   "metadata": {
    "scrolled": true
   },
   "outputs": [
    {
     "name": "stdout",
     "output_type": "stream",
     "text": [
      "Got results for credit, page 1\n",
      "Got results for credit, page 2\n",
      "Got results for credit, page 3\n",
      "Got results for credit, page 4\n",
      "Got results for credit, page 5\n",
      "Got results for credit, page 6\n",
      "Got results for credit, page 7\n",
      "Got results for credit, page 8\n",
      "Got results for credit, page 9\n",
      "Got results for credit, page 10\n",
      "Got results for credit, page 11\n",
      "Got results for credit, page 12\n",
      "Got results for credit, page 13\n",
      "Got results for credit, page 14\n",
      "Got results for credit, page 15\n",
      "Got results for credit, page 16\n",
      "Got results for credit, page 17\n",
      "Got results for credit, page 18\n",
      "Got results for credit, page 19\n",
      "Got results for credit, page 20\n",
      "Got results for credit, page 21\n",
      "Got results for credit, page 22\n",
      "Got results for credit, page 23\n",
      "Got results for credit, page 24\n",
      "Got results for credit, page 25\n",
      "Got results for credit, page 26\n",
      "Got results for credit, page 27\n",
      "Got results for credit, page 28\n",
      "Got results for credit, page 29\n",
      "Got results for credit, page 30\n",
      "Got results for credit, page 31\n",
      "Got results for credit, page 32\n",
      "Got results for credit, page 33\n",
      "Got results for credit, page 34\n",
      "Got results for credit, page 35\n",
      "Got results for credit, page 36\n",
      "Got results for credit, page 37\n",
      "Got results for credit, page 38\n",
      "Got results for credit, page 39\n",
      "Got results for credit, page 40\n",
      "Got results for credit, page 41\n",
      "Got results for credit, page 42\n",
      "Got results for credit, page 43\n",
      "Got results for credit, page 44\n",
      "Got results for credit, page 45\n",
      "Got results for credit, page 46\n",
      "Got results for credit, page 47\n",
      "Got results for credit, page 48\n",
      "Got results for credit, page 49\n",
      "Got results for credit, page 50\n",
      "Got results for credit, page 51\n",
      "Got results for credit, page 52\n",
      "Got results for credit, page 53\n"
     ]
    }
   ],
   "source": [
    "all_credit = get_all_reviews(link_credits, 'credit')"
   ]
  },
  {
   "cell_type": "code",
   "execution_count": 160,
   "metadata": {},
   "outputs": [
    {
     "data": {
      "text/plain": [
       "1314"
      ]
     },
     "execution_count": 160,
     "metadata": {},
     "output_type": "execute_result"
    }
   ],
   "source": [
    "len(all_credit)"
   ]
  },
  {
   "cell_type": "code",
   "execution_count": 162,
   "metadata": {},
   "outputs": [],
   "source": [
    "all_credit_df = pd.DataFrame(all_credit)"
   ]
  },
  {
   "cell_type": "code",
   "execution_count": 163,
   "metadata": {},
   "outputs": [
    {
     "data": {
      "text/html": [
       "<div>\n",
       "<style scoped>\n",
       "    .dataframe tbody tr th:only-of-type {\n",
       "        vertical-align: middle;\n",
       "    }\n",
       "\n",
       "    .dataframe tbody tr th {\n",
       "        vertical-align: top;\n",
       "    }\n",
       "\n",
       "    .dataframe thead th {\n",
       "        text-align: right;\n",
       "    }\n",
       "</style>\n",
       "<table border=\"1\" class=\"dataframe\">\n",
       "  <thead>\n",
       "    <tr style=\"text-align: right;\">\n",
       "      <th></th>\n",
       "      <th>title</th>\n",
       "      <th>url</th>\n",
       "      <th>text</th>\n",
       "      <th>score</th>\n",
       "      <th>date</th>\n",
       "      <th>class</th>\n",
       "    </tr>\n",
       "  </thead>\n",
       "  <tbody>\n",
       "    <tr>\n",
       "      <th>0</th>\n",
       "      <td>Числится задолженность по закрытым кредитам в ...</td>\n",
       "      <td>banki.ru/services/responses/bank/response/1044...</td>\n",
       "      <td>добрый день! подавал заявки на кредит в банки ...</td>\n",
       "      <td>NaN</td>\n",
       "      <td>02.12.2020 11:18</td>\n",
       "      <td>credit</td>\n",
       "    </tr>\n",
       "    <tr>\n",
       "      <th>1</th>\n",
       "      <td>Досрочное погашение кредита</td>\n",
       "      <td>banki.ru/services/responses/bank/response/1044...</td>\n",
       "      <td>Требование решить вопрос о корректном закрытии...</td>\n",
       "      <td>1.0</td>\n",
       "      <td>01.12.2020 0:13</td>\n",
       "      <td>credit</td>\n",
       "    </tr>\n",
       "    <tr>\n",
       "      <th>2</th>\n",
       "      <td>Жуткий колхоз, незаконно повышают % по кредиту</td>\n",
       "      <td>banki.ru/services/responses/bank/response/1044...</td>\n",
       "      <td>Осенью 2019 г. взял потребительский кредит.25....</td>\n",
       "      <td>1.0</td>\n",
       "      <td>30.11.2020 21:52</td>\n",
       "      <td>credit</td>\n",
       "    </tr>\n",
       "    <tr>\n",
       "      <th>3</th>\n",
       "      <td>Хорошая работа</td>\n",
       "      <td>banki.ru/services/responses/bank/response/1044...</td>\n",
       "      <td>Здравствуйте, хотел бы оставить отзыв о хороше...</td>\n",
       "      <td>5.0</td>\n",
       "      <td>30.11.2020 15:31</td>\n",
       "      <td>credit</td>\n",
       "    </tr>\n",
       "    <tr>\n",
       "      <th>4</th>\n",
       "      <td>Обслуживание</td>\n",
       "      <td>banki.ru/services/responses/bank/response/1044...</td>\n",
       "      <td>Обратился в Хабаровский филиал Россельхозбанка...</td>\n",
       "      <td>5.0</td>\n",
       "      <td>28.11.2020 12:39</td>\n",
       "      <td>credit</td>\n",
       "    </tr>\n",
       "  </tbody>\n",
       "</table>\n",
       "</div>"
      ],
      "text/plain": [
       "                                               title  \\\n",
       "0  Числится задолженность по закрытым кредитам в ...   \n",
       "1                        Досрочное погашение кредита   \n",
       "2     Жуткий колхоз, незаконно повышают % по кредиту   \n",
       "3                                     Хорошая работа   \n",
       "4                                       Обслуживание   \n",
       "\n",
       "                                                 url  \\\n",
       "0  banki.ru/services/responses/bank/response/1044...   \n",
       "1  banki.ru/services/responses/bank/response/1044...   \n",
       "2  banki.ru/services/responses/bank/response/1044...   \n",
       "3  banki.ru/services/responses/bank/response/1044...   \n",
       "4  banki.ru/services/responses/bank/response/1044...   \n",
       "\n",
       "                                                text  score              date  \\\n",
       "0  добрый день! подавал заявки на кредит в банки ...    NaN  02.12.2020 11:18   \n",
       "1  Требование решить вопрос о корректном закрытии...    1.0   01.12.2020 0:13   \n",
       "2  Осенью 2019 г. взял потребительский кредит.25....    1.0  30.11.2020 21:52   \n",
       "3  Здравствуйте, хотел бы оставить отзыв о хороше...    5.0  30.11.2020 15:31   \n",
       "4  Обратился в Хабаровский филиал Россельхозбанка...    5.0  28.11.2020 12:39   \n",
       "\n",
       "    class  \n",
       "0  credit  \n",
       "1  credit  \n",
       "2  credit  \n",
       "3  credit  \n",
       "4  credit  "
      ]
     },
     "execution_count": 163,
     "metadata": {},
     "output_type": "execute_result"
    }
   ],
   "source": [
    "all_credit_df.head()"
   ]
  },
  {
   "cell_type": "code",
   "execution_count": 168,
   "metadata": {},
   "outputs": [],
   "source": [
    "# сохраняем как csv\n",
    "all_credit_df.to_csv('credit_reviews.csv')"
   ]
  },
  {
   "cell_type": "markdown",
   "metadata": {},
   "source": [
    "### Ипотека"
   ]
  },
  {
   "cell_type": "code",
   "execution_count": 192,
   "metadata": {
    "scrolled": true
   },
   "outputs": [
    {
     "name": "stdout",
     "output_type": "stream",
     "text": [
      "Got results for hypothec, page 1\n",
      "Got results for hypothec, page 2\n",
      "Got results for hypothec, page 3\n",
      "Got results for hypothec, page 4\n",
      "Got results for hypothec, page 5\n",
      "Got results for hypothec, page 6\n",
      "Got results for hypothec, page 7\n",
      "Got results for hypothec, page 8\n",
      "Got results for hypothec, page 9\n",
      "Got results for hypothec, page 10\n",
      "Got results for hypothec, page 11\n",
      "Got results for hypothec, page 12\n",
      "Got results for hypothec, page 13\n",
      "Got results for hypothec, page 14\n",
      "Got results for hypothec, page 15\n",
      "Got results for hypothec, page 16\n",
      "Got results for hypothec, page 17\n",
      "Got results for hypothec, page 18\n",
      "Got results for hypothec, page 19\n",
      "Got results for hypothec, page 20\n",
      "Got results for hypothec, page 21\n",
      "Got results for hypothec, page 22\n",
      "Got results for hypothec, page 23\n",
      "Got results for hypothec, page 24\n",
      "Got results for hypothec, page 25\n",
      "Got results for hypothec, page 26\n",
      "Got results for hypothec, page 27\n",
      "Got results for hypothec, page 28\n",
      "Got results for hypothec, page 29\n",
      "Got results for hypothec, page 30\n",
      "Got results for hypothec, page 31\n",
      "Got results for hypothec, page 32\n",
      "Got results for hypothec, page 33\n",
      "Got results for hypothec, page 34\n",
      "Got results for hypothec, page 35\n",
      "Got results for hypothec, page 36\n",
      "Got results for hypothec, page 37\n",
      "Got results for hypothec, page 38\n",
      "Got results for hypothec, page 39\n",
      "Got results for hypothec, page 40\n",
      "Got results for hypothec, page 41\n",
      "Got results for hypothec, page 42\n",
      "Got results for hypothec, page 43\n",
      "Got results for hypothec, page 44\n",
      "Got results for hypothec, page 45\n",
      "Got results for hypothec, page 46\n",
      "Got results for hypothec, page 47\n",
      "Got results for hypothec, page 48\n",
      "Got results for hypothec, page 49\n",
      "Got results for hypothec, page 50\n",
      "Got results for hypothec, page 51\n",
      "Got results for hypothec, page 52\n",
      "Got results for hypothec, page 53\n",
      "Got results for hypothec, page 54\n",
      "Got results for hypothec, page 55\n",
      "Got results for hypothec, page 56\n",
      "Got results for hypothec, page 57\n",
      "Got results for hypothec, page 58\n",
      "Got results for hypothec, page 59\n",
      "Got results for hypothec, page 60\n",
      "Got results for hypothec, page 61\n",
      "Got results for hypothec, page 62\n",
      "Got results for hypothec, page 63\n",
      "Got results for hypothec, page 64\n",
      "Got results for hypothec, page 65\n",
      "Got results for hypothec, page 66\n",
      "Got results for hypothec, page 67\n",
      "Got results for hypothec, page 68\n",
      "Got results for hypothec, page 69\n",
      "Got results for hypothec, page 70\n",
      "Got results for hypothec, page 71\n",
      "Got results for hypothec, page 72\n",
      "Got results for hypothec, page 73\n",
      "Got results for hypothec, page 74\n",
      "Got results for hypothec, page 75\n",
      "Got results for hypothec, page 76\n",
      "Got results for hypothec, page 77\n",
      "Got results for hypothec, page 78\n",
      "Got results for hypothec, page 79\n",
      "Got results for hypothec, page 80\n",
      "Got results for hypothec, page 81\n",
      "Got results for hypothec, page 82\n",
      "Got results for hypothec, page 83\n",
      "Got results for hypothec, page 84\n",
      "Got results for hypothec, page 85\n",
      "Got results for hypothec, page 86\n",
      "Got results for hypothec, page 87\n",
      "Got results for hypothec, page 88\n",
      "Got results for hypothec, page 89\n",
      "Got results for hypothec, page 90\n",
      "Got results for hypothec, page 91\n",
      "Got results for hypothec, page 92\n",
      "Got results for hypothec, page 93\n",
      "Got results for hypothec, page 94\n",
      "Got results for hypothec, page 95\n",
      "Got results for hypothec, page 96\n",
      "Got results for hypothec, page 97\n",
      "Got results for hypothec, page 98\n",
      "Got results for hypothec, page 99\n",
      "Got results for hypothec, page 100\n",
      "Got results for hypothec, page 101\n",
      "Got results for hypothec, page 102\n",
      "Got results for hypothec, page 103\n",
      "Got results for hypothec, page 104\n",
      "Got results for hypothec, page 105\n",
      "Got results for hypothec, page 106\n",
      "Got results for hypothec, page 107\n",
      "Got results for hypothec, page 108\n",
      "Got results for hypothec, page 109\n",
      "Got results for hypothec, page 110\n",
      "Got results for hypothec, page 111\n",
      "Got results for hypothec, page 112\n",
      "Got results for hypothec, page 113\n",
      "Got results for hypothec, page 114\n",
      "Got results for hypothec, page 115\n",
      "Got results for hypothec, page 116\n",
      "Got results for hypothec, page 117\n"
     ]
    }
   ],
   "source": [
    "all_hypothec = get_all_reviews(link_hypothec, 'hypothec')"
   ]
  },
  {
   "cell_type": "code",
   "execution_count": 197,
   "metadata": {},
   "outputs": [
    {
     "data": {
      "text/plain": [
       "2901"
      ]
     },
     "execution_count": 197,
     "metadata": {},
     "output_type": "execute_result"
    }
   ],
   "source": [
    "len(all_hypothec)"
   ]
  },
  {
   "cell_type": "code",
   "execution_count": 198,
   "metadata": {},
   "outputs": [],
   "source": [
    "all_hypothec_df = pd.DataFrame(all_hypothec)"
   ]
  },
  {
   "cell_type": "code",
   "execution_count": 199,
   "metadata": {},
   "outputs": [
    {
     "data": {
      "text/html": [
       "<div>\n",
       "<style scoped>\n",
       "    .dataframe tbody tr th:only-of-type {\n",
       "        vertical-align: middle;\n",
       "    }\n",
       "\n",
       "    .dataframe tbody tr th {\n",
       "        vertical-align: top;\n",
       "    }\n",
       "\n",
       "    .dataframe thead th {\n",
       "        text-align: right;\n",
       "    }\n",
       "</style>\n",
       "<table border=\"1\" class=\"dataframe\">\n",
       "  <thead>\n",
       "    <tr style=\"text-align: right;\">\n",
       "      <th></th>\n",
       "      <th>title</th>\n",
       "      <th>url</th>\n",
       "      <th>text</th>\n",
       "      <th>score</th>\n",
       "      <th>date</th>\n",
       "      <th>label</th>\n",
       "    </tr>\n",
       "  </thead>\n",
       "  <tbody>\n",
       "    <tr>\n",
       "      <th>0</th>\n",
       "      <td>Жалоба!</td>\n",
       "      <td>banki.ru/services/responses/bank/response/1044...</td>\n",
       "      <td>Здравствуйте!​ ​ ​ ​ ​ ​ ​ ​ ​ ​ Я обратился в...</td>\n",
       "      <td>1.0</td>\n",
       "      <td>02.12.2020 18:00</td>\n",
       "      <td>hypothec</td>\n",
       "    </tr>\n",
       "    <tr>\n",
       "      <th>1</th>\n",
       "      <td>Ужасная поддержка клиентов</td>\n",
       "      <td>banki.ru/services/responses/bank/response/1044...</td>\n",
       "      <td>В отличие от большинства современных банков, к...</td>\n",
       "      <td>1.0</td>\n",
       "      <td>02.12.2020 13:33</td>\n",
       "      <td>hypothec</td>\n",
       "    </tr>\n",
       "    <tr>\n",
       "      <th>2</th>\n",
       "      <td>Саботаж досрочного погашения</td>\n",
       "      <td>banki.ru/services/responses/bank/response/1044...</td>\n",
       "      <td>Добрый день!Взяла в РСХБ ипотеку около 2 лет н...</td>\n",
       "      <td>1.0</td>\n",
       "      <td>01.12.2020 21:33</td>\n",
       "      <td>hypothec</td>\n",
       "    </tr>\n",
       "    <tr>\n",
       "      <th>3</th>\n",
       "      <td>Нельзя получить справку/выписку по своему кред...</td>\n",
       "      <td>banki.ru/services/responses/bank/response/1044...</td>\n",
       "      <td>Взял ипотеку в данном банке в Челябинске. Особ...</td>\n",
       "      <td>1.0</td>\n",
       "      <td>01.12.2020 20:05</td>\n",
       "      <td>hypothec</td>\n",
       "    </tr>\n",
       "    <tr>\n",
       "      <th>4</th>\n",
       "      <td>Настоящий государственный банк</td>\n",
       "      <td>banki.ru/services/responses/bank/response/1044...</td>\n",
       "      <td>Всем привет!!! Вообщем в 2018 г. оформил ипоте...</td>\n",
       "      <td>4.0</td>\n",
       "      <td>01.12.2020 19:20</td>\n",
       "      <td>hypothec</td>\n",
       "    </tr>\n",
       "  </tbody>\n",
       "</table>\n",
       "</div>"
      ],
      "text/plain": [
       "                                               title  \\\n",
       "0                                            Жалоба!   \n",
       "1                         Ужасная поддержка клиентов   \n",
       "2                       Саботаж досрочного погашения   \n",
       "3  Нельзя получить справку/выписку по своему кред...   \n",
       "4                     Настоящий государственный банк   \n",
       "\n",
       "                                                 url  \\\n",
       "0  banki.ru/services/responses/bank/response/1044...   \n",
       "1  banki.ru/services/responses/bank/response/1044...   \n",
       "2  banki.ru/services/responses/bank/response/1044...   \n",
       "3  banki.ru/services/responses/bank/response/1044...   \n",
       "4  banki.ru/services/responses/bank/response/1044...   \n",
       "\n",
       "                                                text  score              date  \\\n",
       "0  Здравствуйте!​ ​ ​ ​ ​ ​ ​ ​ ​ ​ Я обратился в...    1.0  02.12.2020 18:00   \n",
       "1  В отличие от большинства современных банков, к...    1.0  02.12.2020 13:33   \n",
       "2  Добрый день!Взяла в РСХБ ипотеку около 2 лет н...    1.0  01.12.2020 21:33   \n",
       "3  Взял ипотеку в данном банке в Челябинске. Особ...    1.0  01.12.2020 20:05   \n",
       "4  Всем привет!!! Вообщем в 2018 г. оформил ипоте...    4.0  01.12.2020 19:20   \n",
       "\n",
       "      label  \n",
       "0  hypothec  \n",
       "1  hypothec  \n",
       "2  hypothec  \n",
       "3  hypothec  \n",
       "4  hypothec  "
      ]
     },
     "execution_count": 199,
     "metadata": {},
     "output_type": "execute_result"
    }
   ],
   "source": [
    "all_hypothec_df.head()"
   ]
  },
  {
   "cell_type": "code",
   "execution_count": 200,
   "metadata": {},
   "outputs": [],
   "source": [
    "# сохраняем как csv\n",
    "all_hypothec_df.to_csv('hypothec_reviews.csv')"
   ]
  },
  {
   "cell_type": "markdown",
   "metadata": {},
   "source": [
    "### Дебетовые карты"
   ]
  },
  {
   "cell_type": "code",
   "execution_count": 201,
   "metadata": {
    "scrolled": true
   },
   "outputs": [
    {
     "name": "stdout",
     "output_type": "stream",
     "text": [
      "Got results for debitcard, page 1\n",
      "Got results for debitcard, page 2\n",
      "Got results for debitcard, page 3\n",
      "Got results for debitcard, page 4\n",
      "Got results for debitcard, page 5\n",
      "Got results for debitcard, page 6\n",
      "Got results for debitcard, page 7\n",
      "Got results for debitcard, page 8\n",
      "Got results for debitcard, page 9\n",
      "Got results for debitcard, page 10\n",
      "Got results for debitcard, page 11\n",
      "Got results for debitcard, page 12\n",
      "Got results for debitcard, page 13\n",
      "Got results for debitcard, page 14\n",
      "Got results for debitcard, page 15\n",
      "Got results for debitcard, page 16\n",
      "Got results for debitcard, page 17\n",
      "Got results for debitcard, page 18\n",
      "Got results for debitcard, page 19\n",
      "Got results for debitcard, page 20\n",
      "Got results for debitcard, page 21\n",
      "Got results for debitcard, page 22\n",
      "Got results for debitcard, page 23\n",
      "Got results for debitcard, page 24\n",
      "Got results for debitcard, page 25\n",
      "Got results for debitcard, page 26\n",
      "Got results for debitcard, page 27\n",
      "Got results for debitcard, page 28\n",
      "Got results for debitcard, page 29\n",
      "Got results for debitcard, page 30\n",
      "Got results for debitcard, page 31\n",
      "Got results for debitcard, page 32\n",
      "Got results for debitcard, page 33\n",
      "Got results for debitcard, page 34\n",
      "Got results for debitcard, page 35\n",
      "Got results for debitcard, page 36\n",
      "Got results for debitcard, page 37\n",
      "Got results for debitcard, page 38\n",
      "Got results for debitcard, page 39\n",
      "Got results for debitcard, page 40\n",
      "Got results for debitcard, page 41\n",
      "Got results for debitcard, page 42\n",
      "Got results for debitcard, page 43\n",
      "Got results for debitcard, page 44\n",
      "Got results for debitcard, page 45\n",
      "Got results for debitcard, page 46\n",
      "Got results for debitcard, page 47\n",
      "Got results for debitcard, page 48\n",
      "Got results for debitcard, page 49\n",
      "Got results for debitcard, page 50\n",
      "Got results for debitcard, page 51\n",
      "Got results for debitcard, page 52\n",
      "Got results for debitcard, page 53\n",
      "Got results for debitcard, page 54\n",
      "Got results for debitcard, page 55\n",
      "Got results for debitcard, page 56\n",
      "Got results for debitcard, page 57\n",
      "Got results for debitcard, page 58\n",
      "Got results for debitcard, page 59\n",
      "Got results for debitcard, page 60\n",
      "Got results for debitcard, page 61\n",
      "Got results for debitcard, page 62\n",
      "Got results for debitcard, page 63\n",
      "Got results for debitcard, page 64\n",
      "Got results for debitcard, page 65\n",
      "Got results for debitcard, page 66\n",
      "Got results for debitcard, page 67\n",
      "Got results for debitcard, page 68\n",
      "Got results for debitcard, page 69\n",
      "Got results for debitcard, page 70\n",
      "Got results for debitcard, page 71\n",
      "Got results for debitcard, page 72\n",
      "Got results for debitcard, page 73\n",
      "Got results for debitcard, page 74\n",
      "Got results for debitcard, page 75\n",
      "Got results for debitcard, page 76\n",
      "Got results for debitcard, page 77\n",
      "Got results for debitcard, page 78\n",
      "Got results for debitcard, page 79\n",
      "Got results for debitcard, page 80\n",
      "Got results for debitcard, page 81\n",
      "Got results for debitcard, page 82\n"
     ]
    }
   ],
   "source": [
    "all_debitcards = get_all_reviews(link_debitcards, 'debitcard')"
   ]
  },
  {
   "cell_type": "code",
   "execution_count": 202,
   "metadata": {},
   "outputs": [
    {
     "data": {
      "text/plain": [
       "2039"
      ]
     },
     "execution_count": 202,
     "metadata": {},
     "output_type": "execute_result"
    }
   ],
   "source": [
    "len(all_debitcards)"
   ]
  },
  {
   "cell_type": "code",
   "execution_count": 203,
   "metadata": {},
   "outputs": [],
   "source": [
    "all_debitcards_df = pd.DataFrame(all_debitcards)"
   ]
  },
  {
   "cell_type": "code",
   "execution_count": 204,
   "metadata": {},
   "outputs": [
    {
     "data": {
      "text/html": [
       "<div>\n",
       "<style scoped>\n",
       "    .dataframe tbody tr th:only-of-type {\n",
       "        vertical-align: middle;\n",
       "    }\n",
       "\n",
       "    .dataframe tbody tr th {\n",
       "        vertical-align: top;\n",
       "    }\n",
       "\n",
       "    .dataframe thead th {\n",
       "        text-align: right;\n",
       "    }\n",
       "</style>\n",
       "<table border=\"1\" class=\"dataframe\">\n",
       "  <thead>\n",
       "    <tr style=\"text-align: right;\">\n",
       "      <th></th>\n",
       "      <th>title</th>\n",
       "      <th>url</th>\n",
       "      <th>text</th>\n",
       "      <th>score</th>\n",
       "      <th>date</th>\n",
       "      <th>label</th>\n",
       "    </tr>\n",
       "  </thead>\n",
       "  <tbody>\n",
       "    <tr>\n",
       "      <th>0</th>\n",
       "      <td>Полнейший ад!</td>\n",
       "      <td>banki.ru/services/responses/bank/response/1044...</td>\n",
       "      <td>Оформил дебетовую карту в этом банке колхозник...</td>\n",
       "      <td>1.0</td>\n",
       "      <td>02.12.2020 15:48</td>\n",
       "      <td>debitcard</td>\n",
       "    </tr>\n",
       "    <tr>\n",
       "      <th>1</th>\n",
       "      <td>Начислена комиссия за карту, которую не получала.</td>\n",
       "      <td>banki.ru/services/responses/bank/response/1044...</td>\n",
       "      <td>Так как в разделе вопросы-ответы представители...</td>\n",
       "      <td>1.0</td>\n",
       "      <td>02.12.2020 15:39</td>\n",
       "      <td>debitcard</td>\n",
       "    </tr>\n",
       "    <tr>\n",
       "      <th>2</th>\n",
       "      <td>Не закрывают дебетовую/кредитную карту</td>\n",
       "      <td>banki.ru/services/responses/bank/response/1044...</td>\n",
       "      <td>27.08.2020 года обратился в офис по адресу г. ...</td>\n",
       "      <td>1.0</td>\n",
       "      <td>02.12.2020 12:10</td>\n",
       "      <td>debitcard</td>\n",
       "    </tr>\n",
       "    <tr>\n",
       "      <th>3</th>\n",
       "      <td>Открыли карту без моего согласия и повысили го...</td>\n",
       "      <td>banki.ru/services/responses/bank/response/1044...</td>\n",
       "      <td>Летом 2020 года за два дня до окончания техник...</td>\n",
       "      <td>1.0</td>\n",
       "      <td>02.12.2020 11:58</td>\n",
       "      <td>debitcard</td>\n",
       "    </tr>\n",
       "    <tr>\n",
       "      <th>4</th>\n",
       "      <td>Благодарность</td>\n",
       "      <td>banki.ru/services/responses/bank/response/1044...</td>\n",
       "      <td>Благодаря хорошим отзывам своих знакомых, кото...</td>\n",
       "      <td>5.0</td>\n",
       "      <td>01.12.2020 19:31</td>\n",
       "      <td>debitcard</td>\n",
       "    </tr>\n",
       "  </tbody>\n",
       "</table>\n",
       "</div>"
      ],
      "text/plain": [
       "                                               title  \\\n",
       "0                                      Полнейший ад!   \n",
       "1  Начислена комиссия за карту, которую не получала.   \n",
       "2             Не закрывают дебетовую/кредитную карту   \n",
       "3  Открыли карту без моего согласия и повысили го...   \n",
       "4                                      Благодарность   \n",
       "\n",
       "                                                 url  \\\n",
       "0  banki.ru/services/responses/bank/response/1044...   \n",
       "1  banki.ru/services/responses/bank/response/1044...   \n",
       "2  banki.ru/services/responses/bank/response/1044...   \n",
       "3  banki.ru/services/responses/bank/response/1044...   \n",
       "4  banki.ru/services/responses/bank/response/1044...   \n",
       "\n",
       "                                                text  score              date  \\\n",
       "0  Оформил дебетовую карту в этом банке колхозник...    1.0  02.12.2020 15:48   \n",
       "1  Так как в разделе вопросы-ответы представители...    1.0  02.12.2020 15:39   \n",
       "2  27.08.2020 года обратился в офис по адресу г. ...    1.0  02.12.2020 12:10   \n",
       "3  Летом 2020 года за два дня до окончания техник...    1.0  02.12.2020 11:58   \n",
       "4  Благодаря хорошим отзывам своих знакомых, кото...    5.0  01.12.2020 19:31   \n",
       "\n",
       "       label  \n",
       "0  debitcard  \n",
       "1  debitcard  \n",
       "2  debitcard  \n",
       "3  debitcard  \n",
       "4  debitcard  "
      ]
     },
     "execution_count": 204,
     "metadata": {},
     "output_type": "execute_result"
    }
   ],
   "source": [
    "all_debitcards_df.head()"
   ]
  },
  {
   "cell_type": "code",
   "execution_count": 205,
   "metadata": {},
   "outputs": [],
   "source": [
    "# сохраняем как csv\n",
    "all_debitcards_df.to_csv('debitcards_reviews.csv')"
   ]
  },
  {
   "cell_type": "markdown",
   "metadata": {},
   "source": [
    "### Вклад"
   ]
  },
  {
   "cell_type": "code",
   "execution_count": 206,
   "metadata": {
    "scrolled": true
   },
   "outputs": [
    {
     "name": "stdout",
     "output_type": "stream",
     "text": [
      "Got results for deposit, page 1\n",
      "Got results for deposit, page 2\n",
      "Got results for deposit, page 3\n",
      "Got results for deposit, page 4\n",
      "Got results for deposit, page 5\n",
      "Got results for deposit, page 6\n",
      "Got results for deposit, page 7\n",
      "Got results for deposit, page 8\n",
      "Got results for deposit, page 9\n",
      "Got results for deposit, page 10\n",
      "Got results for deposit, page 11\n",
      "Got results for deposit, page 12\n",
      "Got results for deposit, page 13\n",
      "Got results for deposit, page 14\n",
      "Got results for deposit, page 15\n",
      "Got results for deposit, page 16\n",
      "Got results for deposit, page 17\n",
      "Got results for deposit, page 18\n",
      "Got results for deposit, page 19\n",
      "Got results for deposit, page 20\n",
      "Got results for deposit, page 21\n",
      "Got results for deposit, page 22\n",
      "Got results for deposit, page 23\n",
      "Got results for deposit, page 24\n",
      "Got results for deposit, page 25\n",
      "Got results for deposit, page 26\n",
      "Got results for deposit, page 27\n",
      "Got results for deposit, page 28\n",
      "Got results for deposit, page 29\n",
      "Got results for deposit, page 30\n",
      "Got results for deposit, page 31\n",
      "Got results for deposit, page 32\n",
      "Got results for deposit, page 33\n",
      "Got results for deposit, page 34\n",
      "Got results for deposit, page 35\n",
      "Got results for deposit, page 36\n",
      "Got results for deposit, page 37\n",
      "Got results for deposit, page 38\n",
      "Got results for deposit, page 39\n",
      "Got results for deposit, page 40\n",
      "Got results for deposit, page 41\n",
      "Got results for deposit, page 42\n",
      "Got results for deposit, page 43\n",
      "Got results for deposit, page 44\n",
      "Got results for deposit, page 45\n",
      "Got results for deposit, page 46\n",
      "Got results for deposit, page 47\n",
      "Got results for deposit, page 48\n",
      "Got results for deposit, page 49\n",
      "Got results for deposit, page 50\n",
      "Got results for deposit, page 51\n",
      "Got results for deposit, page 52\n",
      "Got results for deposit, page 53\n",
      "Got results for deposit, page 54\n",
      "Got results for deposit, page 55\n",
      "Got results for deposit, page 56\n",
      "Got results for deposit, page 57\n",
      "Got results for deposit, page 58\n",
      "Got results for deposit, page 59\n",
      "Got results for deposit, page 60\n",
      "Got results for deposit, page 61\n",
      "Got results for deposit, page 62\n",
      "Got results for deposit, page 63\n",
      "Got results for deposit, page 64\n",
      "Got results for deposit, page 65\n",
      "Got results for deposit, page 66\n",
      "Got results for deposit, page 67\n",
      "Got results for deposit, page 68\n",
      "Got results for deposit, page 69\n",
      "Got results for deposit, page 70\n",
      "Got results for deposit, page 71\n",
      "Got results for deposit, page 72\n",
      "Got results for deposit, page 73\n",
      "Got results for deposit, page 74\n"
     ]
    }
   ],
   "source": [
    "all_deposits = get_all_reviews(link_deposits, 'deposit')"
   ]
  },
  {
   "cell_type": "code",
   "execution_count": 207,
   "metadata": {},
   "outputs": [
    {
     "data": {
      "text/plain": [
       "1828"
      ]
     },
     "execution_count": 207,
     "metadata": {},
     "output_type": "execute_result"
    }
   ],
   "source": [
    "len(all_deposits)"
   ]
  },
  {
   "cell_type": "code",
   "execution_count": 208,
   "metadata": {},
   "outputs": [],
   "source": [
    "all_deposits_df = pd.DataFrame(all_deposits)"
   ]
  },
  {
   "cell_type": "code",
   "execution_count": 209,
   "metadata": {},
   "outputs": [
    {
     "data": {
      "text/html": [
       "<div>\n",
       "<style scoped>\n",
       "    .dataframe tbody tr th:only-of-type {\n",
       "        vertical-align: middle;\n",
       "    }\n",
       "\n",
       "    .dataframe tbody tr th {\n",
       "        vertical-align: top;\n",
       "    }\n",
       "\n",
       "    .dataframe thead th {\n",
       "        text-align: right;\n",
       "    }\n",
       "</style>\n",
       "<table border=\"1\" class=\"dataframe\">\n",
       "  <thead>\n",
       "    <tr style=\"text-align: right;\">\n",
       "      <th></th>\n",
       "      <th>title</th>\n",
       "      <th>url</th>\n",
       "      <th>text</th>\n",
       "      <th>score</th>\n",
       "      <th>date</th>\n",
       "      <th>label</th>\n",
       "    </tr>\n",
       "  </thead>\n",
       "  <tbody>\n",
       "    <tr>\n",
       "      <th>0</th>\n",
       "      <td>Отвратительное обслуживание</td>\n",
       "      <td>banki.ru/services/responses/bank/response/1044...</td>\n",
       "      <td>Отвратительное обслуживание. Дозвониться до ну...</td>\n",
       "      <td>1.0</td>\n",
       "      <td>02.12.2020 19:28</td>\n",
       "      <td>deposit</td>\n",
       "    </tr>\n",
       "    <tr>\n",
       "      <th>1</th>\n",
       "      <td>Достали своим SMS-спамом</td>\n",
       "      <td>banki.ru/services/responses/bank/response/1044...</td>\n",
       "      <td>Когда-то давно был вклад в РСХБ. Последние нес...</td>\n",
       "      <td>1.0</td>\n",
       "      <td>02.12.2020 13:15</td>\n",
       "      <td>deposit</td>\n",
       "    </tr>\n",
       "    <tr>\n",
       "      <th>2</th>\n",
       "      <td>Вклад</td>\n",
       "      <td>banki.ru/services/responses/bank/response/1044...</td>\n",
       "      <td>В июле решили вложить свои накопления в банк д...</td>\n",
       "      <td>5.0</td>\n",
       "      <td>29.11.2020 9:13</td>\n",
       "      <td>deposit</td>\n",
       "    </tr>\n",
       "    <tr>\n",
       "      <th>3</th>\n",
       "      <td>Спасибо</td>\n",
       "      <td>banki.ru/services/responses/bank/response/1044...</td>\n",
       "      <td>Хотелось бы выразить особую благодарность опер...</td>\n",
       "      <td>5.0</td>\n",
       "      <td>28.11.2020 12:09</td>\n",
       "      <td>deposit</td>\n",
       "    </tr>\n",
       "    <tr>\n",
       "      <th>4</th>\n",
       "      <td>Спасибо старшему менеджеру Козловой Алисе Влад...</td>\n",
       "      <td>banki.ru/services/responses/bank/response/1044...</td>\n",
       "      <td>Посетив отделение банка «Россельхозбанк» я ост...</td>\n",
       "      <td>5.0</td>\n",
       "      <td>28.11.2020 7:03</td>\n",
       "      <td>deposit</td>\n",
       "    </tr>\n",
       "  </tbody>\n",
       "</table>\n",
       "</div>"
      ],
      "text/plain": [
       "                                               title  \\\n",
       "0                        Отвратительное обслуживание   \n",
       "1                           Достали своим SMS-спамом   \n",
       "2                                              Вклад   \n",
       "3                                            Спасибо   \n",
       "4  Спасибо старшему менеджеру Козловой Алисе Влад...   \n",
       "\n",
       "                                                 url  \\\n",
       "0  banki.ru/services/responses/bank/response/1044...   \n",
       "1  banki.ru/services/responses/bank/response/1044...   \n",
       "2  banki.ru/services/responses/bank/response/1044...   \n",
       "3  banki.ru/services/responses/bank/response/1044...   \n",
       "4  banki.ru/services/responses/bank/response/1044...   \n",
       "\n",
       "                                                text  score              date  \\\n",
       "0  Отвратительное обслуживание. Дозвониться до ну...    1.0  02.12.2020 19:28   \n",
       "1  Когда-то давно был вклад в РСХБ. Последние нес...    1.0  02.12.2020 13:15   \n",
       "2  В июле решили вложить свои накопления в банк д...    5.0   29.11.2020 9:13   \n",
       "3  Хотелось бы выразить особую благодарность опер...    5.0  28.11.2020 12:09   \n",
       "4  Посетив отделение банка «Россельхозбанк» я ост...    5.0   28.11.2020 7:03   \n",
       "\n",
       "     label  \n",
       "0  deposit  \n",
       "1  deposit  \n",
       "2  deposit  \n",
       "3  deposit  \n",
       "4  deposit  "
      ]
     },
     "execution_count": 209,
     "metadata": {},
     "output_type": "execute_result"
    }
   ],
   "source": [
    "all_deposits_df.head()"
   ]
  },
  {
   "cell_type": "code",
   "execution_count": 210,
   "metadata": {},
   "outputs": [],
   "source": [
    "# сохраняем как csv\n",
    "all_deposits_df.to_csv('deposits_reviews.csv')"
   ]
  },
  {
   "cell_type": "markdown",
   "metadata": {},
   "source": [
    "Таким образом, были получены все отзывы по четырем классам услуг с сайта banki.ru. При необходимости можно расширить объем данных, прсто добавив название нового файла. "
   ]
  },
  {
   "cell_type": "markdown",
   "metadata": {},
   "source": [
    "### 4. Обучение модели"
   ]
  },
  {
   "cell_type": "markdown",
   "metadata": {},
   "source": [
    "1. Проведите небольшой описательный анализ данных\n",
    "<br><br>\n",
    "2. Решите задачу классификации подготовленных данных по определенным ранее вами классам\n",
    "<br><br>\n",
    "3. Выберите метрики, по которым будете интерпретировать результат.\n",
    "<br><br>\n",
    "4. Объясните ваш выбор метрик\n",
    "<br><br>\n",
    "5. Интерпретируйте и визуализируйте полученные результаты"
   ]
  },
  {
   "cell_type": "code",
   "execution_count": null,
   "metadata": {},
   "outputs": [],
   "source": []
  }
 ],
 "metadata": {
  "kernelspec": {
   "display_name": "Python 3",
   "language": "python",
   "name": "python3"
  },
  "language_info": {
   "codemirror_mode": {
    "name": "ipython",
    "version": 3
   },
   "file_extension": ".py",
   "mimetype": "text/x-python",
   "name": "python",
   "nbconvert_exporter": "python",
   "pygments_lexer": "ipython3",
   "version": "3.8.3"
  }
 },
 "nbformat": 4,
 "nbformat_minor": 4
}
