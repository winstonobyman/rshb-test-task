{
 "cells": [
  {
   "cell_type": "markdown",
   "metadata": {},
   "source": [
    "# Сбор данных"
   ]
  },
  {
   "cell_type": "markdown",
   "metadata": {},
   "source": [
    "### Задание"
   ]
  },
  {
   "cell_type": "markdown",
   "metadata": {},
   "source": [
    "Соберите отзывы (3-5 разных классов) о Россельхозбанке с сайта Банки.ру. Например, класс “Обслуживание” или “Кредит”.\n",
    "\n",
    "Можно воспользоваться [ссылкой на сайт](https://www.banki.ru/services/responses/bank/rshb/).\n",
    "\n",
    "Способ получения данных выберите самостоятельно — можете собирать вручную или написать код для парсинга данных.\n",
    "\n",
    "Убедитесь, что вы имеете достаточно данных по каждому классу.\n",
    "Чем больше отзывов вы соберете — тем лучше."
   ]
  },
  {
   "cell_type": "markdown",
   "metadata": {},
   "source": [
    "### Реализация"
   ]
  },
  {
   "cell_type": "markdown",
   "metadata": {},
   "source": [
    "Для сбора данных будет реализован парсер для сайта banki.ru, собирающий все комментарии по некоторой услуге. Данные по комментариям будут собраны и соединены в единый DataFrame, затем сохранены в csv-формат. Каждому коммантарию будет присвоен свой класс."
   ]
  },
  {
   "cell_type": "markdown",
   "metadata": {},
   "source": [
    "Выберу классы: <br>\n",
    "1. Дебетовая карта *(83 страницы)*\n",
    "2. Ипотека *(117 страниц)*\n",
    "3. Потребительский кредит *(53 страницы)*\n",
    "4. Вклад *(74 страницы)*"
   ]
  },
  {
   "cell_type": "markdown",
   "metadata": {},
   "source": [
    "Будут собраны следующие данные для каждого класса:\n",
    "1. Заголовок\n",
    "2. Текст отзыва\n",
    "3. URL отзыва\n",
    "4. Оценка\n",
    "5. Дата\n",
    "6. Класс {'debitcard', 'credit', 'deposit', 'hypothec'}"
   ]
  },
  {
   "cell_type": "markdown",
   "metadata": {},
   "source": [
    "Для парсинга сайта будет использоваться библиотека Beautiful Soup, для запросов - requests."
   ]
  },
  {
   "cell_type": "code",
   "execution_count": 3,
   "metadata": {},
   "outputs": [],
   "source": [
    "# импортируем необходимые библиотеки\n",
    "import requests \n",
    "from bs4 import BeautifulSoup\n",
    "\n",
    "import pandas as pd\n",
    "import numpy as np"
   ]
  },
  {
   "cell_type": "code",
   "execution_count": 4,
   "metadata": {},
   "outputs": [],
   "source": [
    "# Ссылки: \n",
    "# Потребительский кредит:\n",
    "link_credits = 'https://www.banki.ru/services/responses/bank/rshb/product/credits/?page='\n",
    "# Ипотека: \n",
    "link_hypothec = 'https://www.banki.ru/services/responses/bank/rshb/product/hypothec/?page='\n",
    "# Дебетовая карта: \n",
    "link_debitcards = 'https://www.banki.ru/services/responses/bank/rshb/product/debitcards/?page='\n",
    "# Вклад: \n",
    "link_deposits = 'https://www.banki.ru/services/responses/bank/rshb/product/deposits/?page='"
   ]
  },
  {
   "cell_type": "code",
   "execution_count": 5,
   "metadata": {},
   "outputs": [],
   "source": [
    "# получить список словарей данных для страницы (уже прочитанной bs) и присвоить им класс label \n",
    "def get_info_for_bs_page(bs, label):\n",
    "    responses = bs.find_all(class_='responses__item')\n",
    "    result = [{\n",
    "            'title': i.find('a').text,\n",
    "            'url': 'banki.ru' + i.find('a')['href'],\n",
    "            'text': i.find(class_='responses__item__message markup-inside-small markup-inside-small--bullet').text.strip(), \n",
    "            'score': int(i.find(class_='rating-grade').text.strip()) if i.find(class_='rating-grade') else None,\n",
    "            'date': i.find('time', class_='display-inline-block').text,\n",
    "            'label': label\n",
    "    } for i in responses]\n",
    "        \n",
    "    return result"
   ]
  },
  {
   "cell_type": "code",
   "execution_count": 6,
   "metadata": {
    "scrolled": true
   },
   "outputs": [],
   "source": [
    "# получить все страницы по выбранной ссылке (link_reviews) с выбранным классом (label)\n",
    "def get_all_reviews(link_reviews, label):\n",
    "    # изменим заголовки, чтобы сайт не блокировал запросы\n",
    "    session = requests.session() \n",
    "    session.headers['Accept'] = \\\n",
    "    'text/html,application/xhtml+xml,application/xml;q=0.9,image/avif,image/webp,image/apng,*/*;q=0.8,application/signed-exchange;v=b3;q=0.9'\n",
    "    session.headers['User-Agent'] = \\\n",
    "    'Mozilla/5.0 (Windows NT 10.0; Win64; x64) AppleWebKit/537.36 (KHTML, like Gecko) Chrome/86.0.4240.198 Safari/537.36'\n",
    "    # чтобы сайт не посчитал нас Ddos\n",
    "    session.keep_alive = False\n",
    "\n",
    "    all_reviews = []\n",
    "    i = 1\n",
    "    while 1:\n",
    "        try:\n",
    "            req = session.get(link_reviews + str(i))\n",
    "        except:\n",
    "            req = session.get(link_reviews + str(i))\n",
    "        else: \n",
    "            if req.status_code == 404:\n",
    "                break\n",
    "            bs = BeautifulSoup(req.text)\n",
    "            all_reviews.extend(get_info_for_bs_page(bs, label))\n",
    "            print(f'Загружены данные {label}, для страницы {i}')\n",
    "            i += 1\n",
    "    return all_reviews"
   ]
  },
  {
   "cell_type": "markdown",
   "metadata": {},
   "source": [
    "### Кредит"
   ]
  },
  {
   "cell_type": "markdown",
   "metadata": {},
   "source": [
    "Загрузим все данные по кредиту с помощью функции с необходимыми параметрами:"
   ]
  },
  {
   "cell_type": "code",
   "execution_count": 7,
   "metadata": {
    "scrolled": true
   },
   "outputs": [
    {
     "name": "stdout",
     "output_type": "stream",
     "text": [
      "Загружены данные credit, для страницы 1\n",
      "Загружены данные credit, для страницы 2\n",
      "Загружены данные credit, для страницы 3\n",
      "Загружены данные credit, для страницы 4\n",
      "Загружены данные credit, для страницы 5\n",
      "Загружены данные credit, для страницы 6\n",
      "Загружены данные credit, для страницы 7\n",
      "Загружены данные credit, для страницы 8\n",
      "Загружены данные credit, для страницы 9\n",
      "Загружены данные credit, для страницы 10\n",
      "Загружены данные credit, для страницы 11\n",
      "Загружены данные credit, для страницы 12\n",
      "Загружены данные credit, для страницы 13\n",
      "Загружены данные credit, для страницы 14\n",
      "Загружены данные credit, для страницы 15\n",
      "Загружены данные credit, для страницы 16\n",
      "Загружены данные credit, для страницы 17\n",
      "Загружены данные credit, для страницы 18\n",
      "Загружены данные credit, для страницы 19\n",
      "Загружены данные credit, для страницы 20\n",
      "Загружены данные credit, для страницы 21\n",
      "Загружены данные credit, для страницы 22\n",
      "Загружены данные credit, для страницы 23\n",
      "Загружены данные credit, для страницы 24\n",
      "Загружены данные credit, для страницы 25\n",
      "Загружены данные credit, для страницы 26\n",
      "Загружены данные credit, для страницы 27\n",
      "Загружены данные credit, для страницы 28\n",
      "Загружены данные credit, для страницы 29\n",
      "Загружены данные credit, для страницы 30\n",
      "Загружены данные credit, для страницы 31\n",
      "Загружены данные credit, для страницы 32\n",
      "Загружены данные credit, для страницы 33\n",
      "Загружены данные credit, для страницы 34\n",
      "Загружены данные credit, для страницы 35\n",
      "Загружены данные credit, для страницы 36\n",
      "Загружены данные credit, для страницы 37\n",
      "Загружены данные credit, для страницы 38\n",
      "Загружены данные credit, для страницы 39\n",
      "Загружены данные credit, для страницы 40\n",
      "Загружены данные credit, для страницы 41\n",
      "Загружены данные credit, для страницы 42\n",
      "Загружены данные credit, для страницы 43\n",
      "Загружены данные credit, для страницы 44\n",
      "Загружены данные credit, для страницы 45\n",
      "Загружены данные credit, для страницы 46\n",
      "Загружены данные credit, для страницы 47\n",
      "Загружены данные credit, для страницы 48\n",
      "Загружены данные credit, для страницы 49\n",
      "Загружены данные credit, для страницы 50\n",
      "Загружены данные credit, для страницы 51\n",
      "Загружены данные credit, для страницы 52\n",
      "Загружены данные credit, для страницы 53\n"
     ]
    }
   ],
   "source": [
    "all_credit = get_all_reviews(link_credits, 'credit')"
   ]
  },
  {
   "cell_type": "markdown",
   "metadata": {},
   "source": [
    "Сделаем из созданных данных датафрейм:"
   ]
  },
  {
   "cell_type": "code",
   "execution_count": 8,
   "metadata": {},
   "outputs": [],
   "source": [
    "all_credit_df = pd.DataFrame(all_credit)"
   ]
  },
  {
   "cell_type": "code",
   "execution_count": 9,
   "metadata": {},
   "outputs": [
    {
     "data": {
      "text/html": [
       "<div>\n",
       "<style scoped>\n",
       "    .dataframe tbody tr th:only-of-type {\n",
       "        vertical-align: middle;\n",
       "    }\n",
       "\n",
       "    .dataframe tbody tr th {\n",
       "        vertical-align: top;\n",
       "    }\n",
       "\n",
       "    .dataframe thead th {\n",
       "        text-align: right;\n",
       "    }\n",
       "</style>\n",
       "<table border=\"1\" class=\"dataframe\">\n",
       "  <thead>\n",
       "    <tr style=\"text-align: right;\">\n",
       "      <th></th>\n",
       "      <th>title</th>\n",
       "      <th>url</th>\n",
       "      <th>text</th>\n",
       "      <th>score</th>\n",
       "      <th>date</th>\n",
       "      <th>label</th>\n",
       "    </tr>\n",
       "  </thead>\n",
       "  <tbody>\n",
       "    <tr>\n",
       "      <th>0</th>\n",
       "      <td>благодарность</td>\n",
       "      <td>banki.ru/services/responses/bank/response/1044...</td>\n",
       "      <td>ДОБРЫЙ ДЕНЬ !!!    ХОЧУ написать БЛАГОДАРНОСТЬ...</td>\n",
       "      <td>5.0</td>\n",
       "      <td>03.12.2020 13:53</td>\n",
       "      <td>credit</td>\n",
       "    </tr>\n",
       "    <tr>\n",
       "      <th>1</th>\n",
       "      <td>Числится задолженность по закрытым кредитам в ...</td>\n",
       "      <td>banki.ru/services/responses/bank/response/1044...</td>\n",
       "      <td>добрый день! подавал заявки на кредит в банки ...</td>\n",
       "      <td>NaN</td>\n",
       "      <td>02.12.2020 11:18</td>\n",
       "      <td>credit</td>\n",
       "    </tr>\n",
       "    <tr>\n",
       "      <th>2</th>\n",
       "      <td>Досрочное погашение кредита</td>\n",
       "      <td>banki.ru/services/responses/bank/response/1044...</td>\n",
       "      <td>Требование решить вопрос о корректном закрытии...</td>\n",
       "      <td>1.0</td>\n",
       "      <td>01.12.2020 0:13</td>\n",
       "      <td>credit</td>\n",
       "    </tr>\n",
       "    <tr>\n",
       "      <th>3</th>\n",
       "      <td>Жуткий колхоз, незаконно повышают % по кредиту</td>\n",
       "      <td>banki.ru/services/responses/bank/response/1044...</td>\n",
       "      <td>Осенью 2019 г. взял потребительский кредит.25....</td>\n",
       "      <td>1.0</td>\n",
       "      <td>30.11.2020 21:52</td>\n",
       "      <td>credit</td>\n",
       "    </tr>\n",
       "    <tr>\n",
       "      <th>4</th>\n",
       "      <td>Хорошая работа</td>\n",
       "      <td>banki.ru/services/responses/bank/response/1044...</td>\n",
       "      <td>Здравствуйте, хотел бы оставить отзыв о хороше...</td>\n",
       "      <td>5.0</td>\n",
       "      <td>30.11.2020 15:31</td>\n",
       "      <td>credit</td>\n",
       "    </tr>\n",
       "  </tbody>\n",
       "</table>\n",
       "</div>"
      ],
      "text/plain": [
       "                                               title  \\\n",
       "0                                      благодарность   \n",
       "1  Числится задолженность по закрытым кредитам в ...   \n",
       "2                        Досрочное погашение кредита   \n",
       "3     Жуткий колхоз, незаконно повышают % по кредиту   \n",
       "4                                     Хорошая работа   \n",
       "\n",
       "                                                 url  \\\n",
       "0  banki.ru/services/responses/bank/response/1044...   \n",
       "1  banki.ru/services/responses/bank/response/1044...   \n",
       "2  banki.ru/services/responses/bank/response/1044...   \n",
       "3  banki.ru/services/responses/bank/response/1044...   \n",
       "4  banki.ru/services/responses/bank/response/1044...   \n",
       "\n",
       "                                                text  score              date  \\\n",
       "0  ДОБРЫЙ ДЕНЬ !!!    ХОЧУ написать БЛАГОДАРНОСТЬ...    5.0  03.12.2020 13:53   \n",
       "1  добрый день! подавал заявки на кредит в банки ...    NaN  02.12.2020 11:18   \n",
       "2  Требование решить вопрос о корректном закрытии...    1.0   01.12.2020 0:13   \n",
       "3  Осенью 2019 г. взял потребительский кредит.25....    1.0  30.11.2020 21:52   \n",
       "4  Здравствуйте, хотел бы оставить отзыв о хороше...    5.0  30.11.2020 15:31   \n",
       "\n",
       "    label  \n",
       "0  credit  \n",
       "1  credit  \n",
       "2  credit  \n",
       "3  credit  \n",
       "4  credit  "
      ]
     },
     "execution_count": 9,
     "metadata": {},
     "output_type": "execute_result"
    }
   ],
   "source": [
    "all_credit_df.head()"
   ]
  },
  {
   "cell_type": "code",
   "execution_count": 10,
   "metadata": {},
   "outputs": [
    {
     "name": "stdout",
     "output_type": "stream",
     "text": [
      "<class 'pandas.core.frame.DataFrame'>\n",
      "RangeIndex: 1315 entries, 0 to 1314\n",
      "Data columns (total 6 columns):\n",
      " #   Column  Non-Null Count  Dtype  \n",
      "---  ------  --------------  -----  \n",
      " 0   title   1315 non-null   object \n",
      " 1   url     1315 non-null   object \n",
      " 2   text    1315 non-null   object \n",
      " 3   score   936 non-null    float64\n",
      " 4   date    1315 non-null   object \n",
      " 5   label   1315 non-null   object \n",
      "dtypes: float64(1), object(5)\n",
      "memory usage: 61.8+ KB\n"
     ]
    }
   ],
   "source": [
    "len(all_credit_df)"
   ]
  },
  {
   "cell_type": "markdown",
   "metadata": {},
   "source": [
    "Повторим эту операцию для остальных классов. "
   ]
  },
  {
   "cell_type": "markdown",
   "metadata": {},
   "source": [
    "### Ипотека"
   ]
  },
  {
   "cell_type": "code",
   "execution_count": 11,
   "metadata": {
    "scrolled": true
   },
   "outputs": [
    {
     "name": "stdout",
     "output_type": "stream",
     "text": [
      "Загружены данные hypothec, для страницы 1\n",
      "Загружены данные hypothec, для страницы 2\n",
      "Загружены данные hypothec, для страницы 3\n",
      "Загружены данные hypothec, для страницы 4\n",
      "Загружены данные hypothec, для страницы 5\n",
      "Загружены данные hypothec, для страницы 6\n",
      "Загружены данные hypothec, для страницы 7\n",
      "Загружены данные hypothec, для страницы 8\n",
      "Загружены данные hypothec, для страницы 9\n",
      "Загружены данные hypothec, для страницы 10\n",
      "Загружены данные hypothec, для страницы 11\n",
      "Загружены данные hypothec, для страницы 12\n",
      "Загружены данные hypothec, для страницы 13\n",
      "Загружены данные hypothec, для страницы 14\n",
      "Загружены данные hypothec, для страницы 15\n",
      "Загружены данные hypothec, для страницы 16\n",
      "Загружены данные hypothec, для страницы 17\n",
      "Загружены данные hypothec, для страницы 18\n",
      "Загружены данные hypothec, для страницы 19\n",
      "Загружены данные hypothec, для страницы 20\n",
      "Загружены данные hypothec, для страницы 21\n",
      "Загружены данные hypothec, для страницы 22\n",
      "Загружены данные hypothec, для страницы 23\n",
      "Загружены данные hypothec, для страницы 24\n",
      "Загружены данные hypothec, для страницы 25\n",
      "Загружены данные hypothec, для страницы 26\n",
      "Загружены данные hypothec, для страницы 27\n",
      "Загружены данные hypothec, для страницы 28\n",
      "Загружены данные hypothec, для страницы 29\n",
      "Загружены данные hypothec, для страницы 30\n",
      "Загружены данные hypothec, для страницы 31\n",
      "Загружены данные hypothec, для страницы 32\n",
      "Загружены данные hypothec, для страницы 33\n",
      "Загружены данные hypothec, для страницы 34\n",
      "Загружены данные hypothec, для страницы 35\n",
      "Загружены данные hypothec, для страницы 36\n",
      "Загружены данные hypothec, для страницы 37\n",
      "Загружены данные hypothec, для страницы 38\n",
      "Загружены данные hypothec, для страницы 39\n",
      "Загружены данные hypothec, для страницы 40\n",
      "Загружены данные hypothec, для страницы 41\n",
      "Загружены данные hypothec, для страницы 42\n",
      "Загружены данные hypothec, для страницы 43\n",
      "Загружены данные hypothec, для страницы 44\n",
      "Загружены данные hypothec, для страницы 45\n",
      "Загружены данные hypothec, для страницы 46\n",
      "Загружены данные hypothec, для страницы 47\n",
      "Загружены данные hypothec, для страницы 48\n",
      "Загружены данные hypothec, для страницы 49\n",
      "Загружены данные hypothec, для страницы 50\n",
      "Загружены данные hypothec, для страницы 51\n",
      "Загружены данные hypothec, для страницы 52\n",
      "Загружены данные hypothec, для страницы 53\n",
      "Загружены данные hypothec, для страницы 54\n",
      "Загружены данные hypothec, для страницы 55\n",
      "Загружены данные hypothec, для страницы 56\n",
      "Загружены данные hypothec, для страницы 57\n",
      "Загружены данные hypothec, для страницы 58\n",
      "Загружены данные hypothec, для страницы 59\n",
      "Загружены данные hypothec, для страницы 60\n",
      "Загружены данные hypothec, для страницы 61\n",
      "Загружены данные hypothec, для страницы 62\n",
      "Загружены данные hypothec, для страницы 63\n",
      "Загружены данные hypothec, для страницы 64\n",
      "Загружены данные hypothec, для страницы 65\n",
      "Загружены данные hypothec, для страницы 66\n",
      "Загружены данные hypothec, для страницы 67\n",
      "Загружены данные hypothec, для страницы 68\n",
      "Загружены данные hypothec, для страницы 69\n",
      "Загружены данные hypothec, для страницы 70\n",
      "Загружены данные hypothec, для страницы 71\n",
      "Загружены данные hypothec, для страницы 72\n",
      "Загружены данные hypothec, для страницы 73\n",
      "Загружены данные hypothec, для страницы 74\n",
      "Загружены данные hypothec, для страницы 75\n",
      "Загружены данные hypothec, для страницы 76\n",
      "Загружены данные hypothec, для страницы 77\n",
      "Загружены данные hypothec, для страницы 78\n",
      "Загружены данные hypothec, для страницы 79\n",
      "Загружены данные hypothec, для страницы 80\n",
      "Загружены данные hypothec, для страницы 81\n",
      "Загружены данные hypothec, для страницы 82\n",
      "Загружены данные hypothec, для страницы 83\n",
      "Загружены данные hypothec, для страницы 84\n",
      "Загружены данные hypothec, для страницы 85\n",
      "Загружены данные hypothec, для страницы 86\n",
      "Загружены данные hypothec, для страницы 87\n",
      "Загружены данные hypothec, для страницы 88\n",
      "Загружены данные hypothec, для страницы 89\n",
      "Загружены данные hypothec, для страницы 90\n",
      "Загружены данные hypothec, для страницы 91\n",
      "Загружены данные hypothec, для страницы 92\n",
      "Загружены данные hypothec, для страницы 93\n",
      "Загружены данные hypothec, для страницы 94\n",
      "Загружены данные hypothec, для страницы 95\n",
      "Загружены данные hypothec, для страницы 96\n",
      "Загружены данные hypothec, для страницы 97\n",
      "Загружены данные hypothec, для страницы 98\n",
      "Загружены данные hypothec, для страницы 99\n",
      "Произошла ошибка подключения, повторное подключение\n",
      "Загружены данные hypothec, для страницы 100\n",
      "Загружены данные hypothec, для страницы 101\n",
      "Загружены данные hypothec, для страницы 102\n",
      "Загружены данные hypothec, для страницы 103\n",
      "Загружены данные hypothec, для страницы 104\n",
      "Загружены данные hypothec, для страницы 105\n",
      "Загружены данные hypothec, для страницы 106\n",
      "Загружены данные hypothec, для страницы 107\n",
      "Загружены данные hypothec, для страницы 108\n",
      "Загружены данные hypothec, для страницы 109\n",
      "Загружены данные hypothec, для страницы 110\n",
      "Загружены данные hypothec, для страницы 111\n",
      "Загружены данные hypothec, для страницы 112\n",
      "Загружены данные hypothec, для страницы 113\n",
      "Загружены данные hypothec, для страницы 114\n",
      "Загружены данные hypothec, для страницы 115\n",
      "Загружены данные hypothec, для страницы 116\n",
      "Загружены данные hypothec, для страницы 117\n"
     ]
    }
   ],
   "source": [
    "all_hypothec = get_all_reviews(link_hypothec, 'hypothec')"
   ]
  },
  {
   "cell_type": "code",
   "execution_count": 12,
   "metadata": {},
   "outputs": [],
   "source": [
    "all_hypothec_df = pd.DataFrame(all_hypothec)"
   ]
  },
  {
   "cell_type": "code",
   "execution_count": 13,
   "metadata": {},
   "outputs": [
    {
     "data": {
      "text/html": [
       "<div>\n",
       "<style scoped>\n",
       "    .dataframe tbody tr th:only-of-type {\n",
       "        vertical-align: middle;\n",
       "    }\n",
       "\n",
       "    .dataframe tbody tr th {\n",
       "        vertical-align: top;\n",
       "    }\n",
       "\n",
       "    .dataframe thead th {\n",
       "        text-align: right;\n",
       "    }\n",
       "</style>\n",
       "<table border=\"1\" class=\"dataframe\">\n",
       "  <thead>\n",
       "    <tr style=\"text-align: right;\">\n",
       "      <th></th>\n",
       "      <th>title</th>\n",
       "      <th>url</th>\n",
       "      <th>text</th>\n",
       "      <th>score</th>\n",
       "      <th>date</th>\n",
       "      <th>label</th>\n",
       "    </tr>\n",
       "  </thead>\n",
       "  <tbody>\n",
       "    <tr>\n",
       "      <th>0</th>\n",
       "      <td>Изменился график платежей и итоговая сумма про...</td>\n",
       "      <td>banki.ru/services/responses/bank/response/1044...</td>\n",
       "      <td>Согласно кредитного ипотечного договора от 02....</td>\n",
       "      <td>1.0</td>\n",
       "      <td>05.12.2020 13:34</td>\n",
       "      <td>hypothec</td>\n",
       "    </tr>\n",
       "    <tr>\n",
       "      <th>1</th>\n",
       "      <td>Ставки повышают, документы теряют, удаленно ни...</td>\n",
       "      <td>banki.ru/services/responses/bank/response/1044...</td>\n",
       "      <td>Максимально ужасное обслуживание.Взял ипотеку ...</td>\n",
       "      <td>2.0</td>\n",
       "      <td>05.12.2020 13:25</td>\n",
       "      <td>hypothec</td>\n",
       "    </tr>\n",
       "    <tr>\n",
       "      <th>2</th>\n",
       "      <td>Нет решения по ипотеке</td>\n",
       "      <td>banki.ru/services/responses/bank/response/1044...</td>\n",
       "      <td>Добрый деньОставил заявку на ипотеку с господд...</td>\n",
       "      <td>1.0</td>\n",
       "      <td>05.12.2020 9:08</td>\n",
       "      <td>hypothec</td>\n",
       "    </tr>\n",
       "    <tr>\n",
       "      <th>3</th>\n",
       "      <td>Благодарность сотруднику</td>\n",
       "      <td>banki.ru/services/responses/bank/response/1044...</td>\n",
       "      <td>Добрый день!👋 Я являюсь клиентом вашего банка,...</td>\n",
       "      <td>5.0</td>\n",
       "      <td>04.12.2020 21:21</td>\n",
       "      <td>hypothec</td>\n",
       "    </tr>\n",
       "    <tr>\n",
       "      <th>4</th>\n",
       "      <td>Доступная ипотека</td>\n",
       "      <td>banki.ru/services/responses/bank/response/1044...</td>\n",
       "      <td>В середине сентябре 2020 я подала заявку на ип...</td>\n",
       "      <td>1.0</td>\n",
       "      <td>04.12.2020 18:16</td>\n",
       "      <td>hypothec</td>\n",
       "    </tr>\n",
       "  </tbody>\n",
       "</table>\n",
       "</div>"
      ],
      "text/plain": [
       "                                               title  \\\n",
       "0  Изменился график платежей и итоговая сумма про...   \n",
       "1  Ставки повышают, документы теряют, удаленно ни...   \n",
       "2                             Нет решения по ипотеке   \n",
       "3                           Благодарность сотруднику   \n",
       "4                                  Доступная ипотека   \n",
       "\n",
       "                                                 url  \\\n",
       "0  banki.ru/services/responses/bank/response/1044...   \n",
       "1  banki.ru/services/responses/bank/response/1044...   \n",
       "2  banki.ru/services/responses/bank/response/1044...   \n",
       "3  banki.ru/services/responses/bank/response/1044...   \n",
       "4  banki.ru/services/responses/bank/response/1044...   \n",
       "\n",
       "                                                text  score              date  \\\n",
       "0  Согласно кредитного ипотечного договора от 02....    1.0  05.12.2020 13:34   \n",
       "1  Максимально ужасное обслуживание.Взял ипотеку ...    2.0  05.12.2020 13:25   \n",
       "2  Добрый деньОставил заявку на ипотеку с господд...    1.0   05.12.2020 9:08   \n",
       "3  Добрый день!👋 Я являюсь клиентом вашего банка,...    5.0  04.12.2020 21:21   \n",
       "4  В середине сентябре 2020 я подала заявку на ип...    1.0  04.12.2020 18:16   \n",
       "\n",
       "      label  \n",
       "0  hypothec  \n",
       "1  hypothec  \n",
       "2  hypothec  \n",
       "3  hypothec  \n",
       "4  hypothec  "
      ]
     },
     "execution_count": 13,
     "metadata": {},
     "output_type": "execute_result"
    }
   ],
   "source": [
    "all_hypothec_df.head()"
   ]
  },
  {
   "cell_type": "code",
   "execution_count": null,
   "metadata": {},
   "outputs": [],
   "source": [
    "len(all_hypothec_df)"
   ]
  },
  {
   "cell_type": "markdown",
   "metadata": {},
   "source": [
    "### Дебетовые карты"
   ]
  },
  {
   "cell_type": "code",
   "execution_count": 14,
   "metadata": {
    "scrolled": true
   },
   "outputs": [
    {
     "name": "stdout",
     "output_type": "stream",
     "text": [
      "Загружены данные debitcard, для страницы 1\n",
      "Загружены данные debitcard, для страницы 2\n",
      "Загружены данные debitcard, для страницы 3\n",
      "Загружены данные debitcard, для страницы 4\n",
      "Загружены данные debitcard, для страницы 5\n",
      "Загружены данные debitcard, для страницы 6\n",
      "Загружены данные debitcard, для страницы 7\n",
      "Загружены данные debitcard, для страницы 8\n",
      "Загружены данные debitcard, для страницы 9\n",
      "Загружены данные debitcard, для страницы 10\n",
      "Загружены данные debitcard, для страницы 11\n",
      "Загружены данные debitcard, для страницы 12\n",
      "Загружены данные debitcard, для страницы 13\n",
      "Загружены данные debitcard, для страницы 14\n",
      "Загружены данные debitcard, для страницы 15\n",
      "Загружены данные debitcard, для страницы 16\n",
      "Загружены данные debitcard, для страницы 17\n",
      "Загружены данные debitcard, для страницы 18\n",
      "Загружены данные debitcard, для страницы 19\n",
      "Загружены данные debitcard, для страницы 20\n",
      "Загружены данные debitcard, для страницы 21\n",
      "Загружены данные debitcard, для страницы 22\n",
      "Загружены данные debitcard, для страницы 23\n",
      "Загружены данные debitcard, для страницы 24\n",
      "Загружены данные debitcard, для страницы 25\n",
      "Загружены данные debitcard, для страницы 26\n",
      "Загружены данные debitcard, для страницы 27\n",
      "Загружены данные debitcard, для страницы 28\n",
      "Загружены данные debitcard, для страницы 29\n",
      "Загружены данные debitcard, для страницы 30\n",
      "Загружены данные debitcard, для страницы 31\n",
      "Загружены данные debitcard, для страницы 32\n",
      "Загружены данные debitcard, для страницы 33\n",
      "Загружены данные debitcard, для страницы 34\n",
      "Загружены данные debitcard, для страницы 35\n",
      "Загружены данные debitcard, для страницы 36\n",
      "Загружены данные debitcard, для страницы 37\n",
      "Загружены данные debitcard, для страницы 38\n",
      "Загружены данные debitcard, для страницы 39\n",
      "Загружены данные debitcard, для страницы 40\n",
      "Загружены данные debitcard, для страницы 41\n",
      "Загружены данные debitcard, для страницы 42\n",
      "Загружены данные debitcard, для страницы 43\n",
      "Загружены данные debitcard, для страницы 44\n",
      "Загружены данные debitcard, для страницы 45\n",
      "Загружены данные debitcard, для страницы 46\n",
      "Загружены данные debitcard, для страницы 47\n",
      "Загружены данные debitcard, для страницы 48\n",
      "Загружены данные debitcard, для страницы 49\n",
      "Загружены данные debitcard, для страницы 50\n",
      "Загружены данные debitcard, для страницы 51\n",
      "Загружены данные debitcard, для страницы 52\n",
      "Загружены данные debitcard, для страницы 53\n",
      "Загружены данные debitcard, для страницы 54\n",
      "Загружены данные debitcard, для страницы 55\n",
      "Загружены данные debitcard, для страницы 56\n",
      "Загружены данные debitcard, для страницы 57\n",
      "Загружены данные debitcard, для страницы 58\n",
      "Загружены данные debitcard, для страницы 59\n",
      "Загружены данные debitcard, для страницы 60\n",
      "Загружены данные debitcard, для страницы 61\n",
      "Загружены данные debitcard, для страницы 62\n",
      "Загружены данные debitcard, для страницы 63\n",
      "Загружены данные debitcard, для страницы 64\n",
      "Загружены данные debitcard, для страницы 65\n",
      "Загружены данные debitcard, для страницы 66\n",
      "Загружены данные debitcard, для страницы 67\n",
      "Загружены данные debitcard, для страницы 68\n",
      "Загружены данные debitcard, для страницы 69\n",
      "Загружены данные debitcard, для страницы 70\n",
      "Загружены данные debitcard, для страницы 71\n",
      "Загружены данные debitcard, для страницы 72\n",
      "Загружены данные debitcard, для страницы 73\n",
      "Загружены данные debitcard, для страницы 74\n",
      "Загружены данные debitcard, для страницы 75\n",
      "Произошла ошибка подключения, повторное подключение\n",
      "Загружены данные debitcard, для страницы 76\n",
      "Загружены данные debitcard, для страницы 77\n",
      "Загружены данные debitcard, для страницы 78\n",
      "Загружены данные debitcard, для страницы 79\n",
      "Загружены данные debitcard, для страницы 80\n",
      "Загружены данные debitcard, для страницы 81\n",
      "Загружены данные debitcard, для страницы 82\n"
     ]
    }
   ],
   "source": [
    "all_debitcards = get_all_reviews(link_debitcards, 'debitcard')"
   ]
  },
  {
   "cell_type": "code",
   "execution_count": 15,
   "metadata": {},
   "outputs": [],
   "source": [
    "all_debitcards_df = pd.DataFrame(all_debitcards)"
   ]
  },
  {
   "cell_type": "code",
   "execution_count": 16,
   "metadata": {},
   "outputs": [
    {
     "data": {
      "text/html": [
       "<div>\n",
       "<style scoped>\n",
       "    .dataframe tbody tr th:only-of-type {\n",
       "        vertical-align: middle;\n",
       "    }\n",
       "\n",
       "    .dataframe tbody tr th {\n",
       "        vertical-align: top;\n",
       "    }\n",
       "\n",
       "    .dataframe thead th {\n",
       "        text-align: right;\n",
       "    }\n",
       "</style>\n",
       "<table border=\"1\" class=\"dataframe\">\n",
       "  <thead>\n",
       "    <tr style=\"text-align: right;\">\n",
       "      <th></th>\n",
       "      <th>title</th>\n",
       "      <th>url</th>\n",
       "      <th>text</th>\n",
       "      <th>score</th>\n",
       "      <th>date</th>\n",
       "      <th>label</th>\n",
       "    </tr>\n",
       "  </thead>\n",
       "  <tbody>\n",
       "    <tr>\n",
       "      <th>0</th>\n",
       "      <td>Сотрудники банка разгласили мои персональные д...</td>\n",
       "      <td>banki.ru/services/responses/bank/response/1044...</td>\n",
       "      <td>В очередной раз уже пишу претензию на отвратит...</td>\n",
       "      <td>1.0</td>\n",
       "      <td>05.12.2020 15:14</td>\n",
       "      <td>debitcard</td>\n",
       "    </tr>\n",
       "    <tr>\n",
       "      <th>1</th>\n",
       "      <td>ПРОПОДАЮТ ПЛАТЕЖИ ЖКХ САХАЛИНЭНЕРГО</td>\n",
       "      <td>banki.ru/services/responses/bank/response/1044...</td>\n",
       "      <td>В МОБИЛЬНОМ ПРИЛОЖЕНИИ ОПЛАЧИВАЮ УСЛУГИ ЖКХ И ...</td>\n",
       "      <td>NaN</td>\n",
       "      <td>05.12.2020 11:40</td>\n",
       "      <td>debitcard</td>\n",
       "    </tr>\n",
       "    <tr>\n",
       "      <th>2</th>\n",
       "      <td>Ужасное обслуживание зарплатного проекта</td>\n",
       "      <td>banki.ru/services/responses/bank/response/1044...</td>\n",
       "      <td>Я-госслужащий. Зарплатные проект обслуживается...</td>\n",
       "      <td>1.0</td>\n",
       "      <td>04.12.2020 22:43</td>\n",
       "      <td>debitcard</td>\n",
       "    </tr>\n",
       "    <tr>\n",
       "      <th>3</th>\n",
       "      <td>Не хотят закрывать карты</td>\n",
       "      <td>banki.ru/services/responses/bank/response/1044...</td>\n",
       "      <td>Первое обращение.30.09.2020 г.  по моей просьб...</td>\n",
       "      <td>1.0</td>\n",
       "      <td>04.12.2020 20:14</td>\n",
       "      <td>debitcard</td>\n",
       "    </tr>\n",
       "    <tr>\n",
       "      <th>4</th>\n",
       "      <td>Мутные балы программы лояльности \"Урожай\"</td>\n",
       "      <td>banki.ru/services/responses/bank/response/1044...</td>\n",
       "      <td>В банках и магазинах уже давно прописаны довол...</td>\n",
       "      <td>1.0</td>\n",
       "      <td>04.12.2020 13:37</td>\n",
       "      <td>debitcard</td>\n",
       "    </tr>\n",
       "  </tbody>\n",
       "</table>\n",
       "</div>"
      ],
      "text/plain": [
       "                                               title  \\\n",
       "0  Сотрудники банка разгласили мои персональные д...   \n",
       "1                ПРОПОДАЮТ ПЛАТЕЖИ ЖКХ САХАЛИНЭНЕРГО   \n",
       "2           Ужасное обслуживание зарплатного проекта   \n",
       "3                           Не хотят закрывать карты   \n",
       "4          Мутные балы программы лояльности \"Урожай\"   \n",
       "\n",
       "                                                 url  \\\n",
       "0  banki.ru/services/responses/bank/response/1044...   \n",
       "1  banki.ru/services/responses/bank/response/1044...   \n",
       "2  banki.ru/services/responses/bank/response/1044...   \n",
       "3  banki.ru/services/responses/bank/response/1044...   \n",
       "4  banki.ru/services/responses/bank/response/1044...   \n",
       "\n",
       "                                                text  score              date  \\\n",
       "0  В очередной раз уже пишу претензию на отвратит...    1.0  05.12.2020 15:14   \n",
       "1  В МОБИЛЬНОМ ПРИЛОЖЕНИИ ОПЛАЧИВАЮ УСЛУГИ ЖКХ И ...    NaN  05.12.2020 11:40   \n",
       "2  Я-госслужащий. Зарплатные проект обслуживается...    1.0  04.12.2020 22:43   \n",
       "3  Первое обращение.30.09.2020 г.  по моей просьб...    1.0  04.12.2020 20:14   \n",
       "4  В банках и магазинах уже давно прописаны довол...    1.0  04.12.2020 13:37   \n",
       "\n",
       "       label  \n",
       "0  debitcard  \n",
       "1  debitcard  \n",
       "2  debitcard  \n",
       "3  debitcard  \n",
       "4  debitcard  "
      ]
     },
     "execution_count": 16,
     "metadata": {},
     "output_type": "execute_result"
    }
   ],
   "source": [
    "all_debitcards_df.head()"
   ]
  },
  {
   "cell_type": "code",
   "execution_count": 17,
   "metadata": {},
   "outputs": [
    {
     "name": "stdout",
     "output_type": "stream",
     "text": [
      "<class 'pandas.core.frame.DataFrame'>\n",
      "RangeIndex: 2048 entries, 0 to 2047\n",
      "Data columns (total 6 columns):\n",
      " #   Column  Non-Null Count  Dtype  \n",
      "---  ------  --------------  -----  \n",
      " 0   title   2048 non-null   object \n",
      " 1   url     2048 non-null   object \n",
      " 2   text    2048 non-null   object \n",
      " 3   score   1695 non-null   float64\n",
      " 4   date    2048 non-null   object \n",
      " 5   label   2048 non-null   object \n",
      "dtypes: float64(1), object(5)\n",
      "memory usage: 96.1+ KB\n"
     ]
    }
   ],
   "source": [
    "len(all_debitcards_df)"
   ]
  },
  {
   "cell_type": "markdown",
   "metadata": {},
   "source": [
    "### Вклад"
   ]
  },
  {
   "cell_type": "code",
   "execution_count": 18,
   "metadata": {
    "scrolled": true
   },
   "outputs": [
    {
     "name": "stdout",
     "output_type": "stream",
     "text": [
      "Загружены данные deposit, для страницы 1\n",
      "Загружены данные deposit, для страницы 2\n",
      "Загружены данные deposit, для страницы 3\n",
      "Загружены данные deposit, для страницы 4\n",
      "Загружены данные deposit, для страницы 5\n",
      "Загружены данные deposit, для страницы 6\n",
      "Загружены данные deposit, для страницы 7\n",
      "Загружены данные deposit, для страницы 8\n",
      "Загружены данные deposit, для страницы 9\n",
      "Загружены данные deposit, для страницы 10\n",
      "Загружены данные deposit, для страницы 11\n",
      "Загружены данные deposit, для страницы 12\n",
      "Загружены данные deposit, для страницы 13\n",
      "Загружены данные deposit, для страницы 14\n",
      "Загружены данные deposit, для страницы 15\n",
      "Загружены данные deposit, для страницы 16\n",
      "Загружены данные deposit, для страницы 17\n",
      "Загружены данные deposit, для страницы 18\n",
      "Загружены данные deposit, для страницы 19\n",
      "Загружены данные deposit, для страницы 20\n",
      "Загружены данные deposit, для страницы 21\n",
      "Загружены данные deposit, для страницы 22\n",
      "Загружены данные deposit, для страницы 23\n",
      "Загружены данные deposit, для страницы 24\n",
      "Загружены данные deposit, для страницы 25\n",
      "Загружены данные deposit, для страницы 26\n",
      "Загружены данные deposit, для страницы 27\n",
      "Загружены данные deposit, для страницы 28\n",
      "Загружены данные deposit, для страницы 29\n",
      "Загружены данные deposit, для страницы 30\n",
      "Загружены данные deposit, для страницы 31\n",
      "Загружены данные deposit, для страницы 32\n",
      "Загружены данные deposit, для страницы 33\n",
      "Загружены данные deposit, для страницы 34\n",
      "Загружены данные deposit, для страницы 35\n",
      "Загружены данные deposit, для страницы 36\n",
      "Загружены данные deposit, для страницы 37\n",
      "Загружены данные deposit, для страницы 38\n",
      "Загружены данные deposit, для страницы 39\n",
      "Загружены данные deposit, для страницы 40\n",
      "Загружены данные deposit, для страницы 41\n",
      "Загружены данные deposit, для страницы 42\n",
      "Загружены данные deposit, для страницы 43\n",
      "Загружены данные deposit, для страницы 44\n",
      "Загружены данные deposit, для страницы 45\n",
      "Загружены данные deposit, для страницы 46\n",
      "Загружены данные deposit, для страницы 47\n",
      "Загружены данные deposit, для страницы 48\n",
      "Загружены данные deposit, для страницы 49\n",
      "Загружены данные deposit, для страницы 50\n",
      "Загружены данные deposit, для страницы 51\n",
      "Загружены данные deposit, для страницы 52\n",
      "Загружены данные deposit, для страницы 53\n",
      "Загружены данные deposit, для страницы 54\n",
      "Загружены данные deposit, для страницы 55\n",
      "Загружены данные deposit, для страницы 56\n",
      "Загружены данные deposit, для страницы 57\n",
      "Загружены данные deposit, для страницы 58\n",
      "Загружены данные deposit, для страницы 59\n",
      "Загружены данные deposit, для страницы 60\n",
      "Загружены данные deposit, для страницы 61\n",
      "Загружены данные deposit, для страницы 62\n",
      "Загружены данные deposit, для страницы 63\n",
      "Загружены данные deposit, для страницы 64\n",
      "Загружены данные deposit, для страницы 65\n",
      "Загружены данные deposit, для страницы 66\n",
      "Загружены данные deposit, для страницы 67\n",
      "Загружены данные deposit, для страницы 68\n",
      "Загружены данные deposit, для страницы 69\n",
      "Загружены данные deposit, для страницы 70\n",
      "Загружены данные deposit, для страницы 71\n",
      "Загружены данные deposit, для страницы 72\n",
      "Загружены данные deposit, для страницы 73\n",
      "Загружены данные deposit, для страницы 74\n"
     ]
    }
   ],
   "source": [
    "all_deposits = get_all_reviews(link_deposits, 'deposit')"
   ]
  },
  {
   "cell_type": "code",
   "execution_count": 19,
   "metadata": {},
   "outputs": [],
   "source": [
    "all_deposits_df = pd.DataFrame(all_deposits)"
   ]
  },
  {
   "cell_type": "code",
   "execution_count": 20,
   "metadata": {},
   "outputs": [
    {
     "data": {
      "text/html": [
       "<div>\n",
       "<style scoped>\n",
       "    .dataframe tbody tr th:only-of-type {\n",
       "        vertical-align: middle;\n",
       "    }\n",
       "\n",
       "    .dataframe tbody tr th {\n",
       "        vertical-align: top;\n",
       "    }\n",
       "\n",
       "    .dataframe thead th {\n",
       "        text-align: right;\n",
       "    }\n",
       "</style>\n",
       "<table border=\"1\" class=\"dataframe\">\n",
       "  <thead>\n",
       "    <tr style=\"text-align: right;\">\n",
       "      <th></th>\n",
       "      <th>title</th>\n",
       "      <th>url</th>\n",
       "      <th>text</th>\n",
       "      <th>score</th>\n",
       "      <th>date</th>\n",
       "      <th>label</th>\n",
       "    </tr>\n",
       "  </thead>\n",
       "  <tbody>\n",
       "    <tr>\n",
       "      <th>0</th>\n",
       "      <td>Ужасный банк</td>\n",
       "      <td>banki.ru/services/responses/bank/response/1044...</td>\n",
       "      <td>Ужасный банк, полный непрофессионализм сотрудн...</td>\n",
       "      <td>2.0</td>\n",
       "      <td>05.12.2020 17:21</td>\n",
       "      <td>deposit</td>\n",
       "    </tr>\n",
       "    <tr>\n",
       "      <th>1</th>\n",
       "      <td>Не возвращают вклад</td>\n",
       "      <td>banki.ru/services/responses/bank/response/1044...</td>\n",
       "      <td>У меня открыт вклад в отделении г. Череповец В...</td>\n",
       "      <td>1.0</td>\n",
       "      <td>03.12.2020 23:12</td>\n",
       "      <td>deposit</td>\n",
       "    </tr>\n",
       "    <tr>\n",
       "      <th>2</th>\n",
       "      <td>Благодарность сотрудникам отделения и обращени...</td>\n",
       "      <td>banki.ru/services/responses/bank/response/1044...</td>\n",
       "      <td>Добрый день ! Я обращаюсь к руководству Москов...</td>\n",
       "      <td>5.0</td>\n",
       "      <td>03.12.2020 15:16</td>\n",
       "      <td>deposit</td>\n",
       "    </tr>\n",
       "    <tr>\n",
       "      <th>3</th>\n",
       "      <td>Незаконно присвоили 600 рублей!</td>\n",
       "      <td>banki.ru/services/responses/bank/response/1044...</td>\n",
       "      <td>Украли 600 рублей! Три года назад открыл у них...</td>\n",
       "      <td>1.0</td>\n",
       "      <td>03.12.2020 11:35</td>\n",
       "      <td>deposit</td>\n",
       "    </tr>\n",
       "    <tr>\n",
       "      <th>4</th>\n",
       "      <td>Отвратительное обслуживание</td>\n",
       "      <td>banki.ru/services/responses/bank/response/1044...</td>\n",
       "      <td>Отвратительное обслуживание. Дозвониться до ну...</td>\n",
       "      <td>1.0</td>\n",
       "      <td>02.12.2020 19:28</td>\n",
       "      <td>deposit</td>\n",
       "    </tr>\n",
       "  </tbody>\n",
       "</table>\n",
       "</div>"
      ],
      "text/plain": [
       "                                               title  \\\n",
       "0                                       Ужасный банк   \n",
       "1                                Не возвращают вклад   \n",
       "2  Благодарность сотрудникам отделения и обращени...   \n",
       "3                    Незаконно присвоили 600 рублей!   \n",
       "4                        Отвратительное обслуживание   \n",
       "\n",
       "                                                 url  \\\n",
       "0  banki.ru/services/responses/bank/response/1044...   \n",
       "1  banki.ru/services/responses/bank/response/1044...   \n",
       "2  banki.ru/services/responses/bank/response/1044...   \n",
       "3  banki.ru/services/responses/bank/response/1044...   \n",
       "4  banki.ru/services/responses/bank/response/1044...   \n",
       "\n",
       "                                                text  score              date  \\\n",
       "0  Ужасный банк, полный непрофессионализм сотрудн...    2.0  05.12.2020 17:21   \n",
       "1  У меня открыт вклад в отделении г. Череповец В...    1.0  03.12.2020 23:12   \n",
       "2  Добрый день ! Я обращаюсь к руководству Москов...    5.0  03.12.2020 15:16   \n",
       "3  Украли 600 рублей! Три года назад открыл у них...    1.0  03.12.2020 11:35   \n",
       "4  Отвратительное обслуживание. Дозвониться до ну...    1.0  02.12.2020 19:28   \n",
       "\n",
       "     label  \n",
       "0  deposit  \n",
       "1  deposit  \n",
       "2  deposit  \n",
       "3  deposit  \n",
       "4  deposit  "
      ]
     },
     "execution_count": 20,
     "metadata": {},
     "output_type": "execute_result"
    }
   ],
   "source": [
    "all_deposits_df.head()"
   ]
  },
  {
   "cell_type": "code",
   "execution_count": 21,
   "metadata": {},
   "outputs": [
    {
     "name": "stdout",
     "output_type": "stream",
     "text": [
      "<class 'pandas.core.frame.DataFrame'>\n",
      "RangeIndex: 1832 entries, 0 to 1831\n",
      "Data columns (total 6 columns):\n",
      " #   Column  Non-Null Count  Dtype  \n",
      "---  ------  --------------  -----  \n",
      " 0   title   1832 non-null   object \n",
      " 1   url     1832 non-null   object \n",
      " 2   text    1832 non-null   object \n",
      " 3   score   1450 non-null   float64\n",
      " 4   date    1832 non-null   object \n",
      " 5   label   1832 non-null   object \n",
      "dtypes: float64(1), object(5)\n",
      "memory usage: 86.0+ KB\n"
     ]
    }
   ],
   "source": [
    "len(all_deposits_df)"
   ]
  },
  {
   "cell_type": "markdown",
   "metadata": {},
   "source": [
    "### Создание единого DataFrame и сохранение в csv"
   ]
  },
  {
   "cell_type": "markdown",
   "metadata": {},
   "source": [
    "Тепреь создадим единый DataFrame:"
   ]
  },
  {
   "cell_type": "code",
   "execution_count": 22,
   "metadata": {},
   "outputs": [],
   "source": [
    "reviews_df = pd.concat([all_credit_df, all_hypothec_df, all_debitcards_df, all_deposits_df])"
   ]
  },
  {
   "cell_type": "code",
   "execution_count": 23,
   "metadata": {
    "scrolled": false
   },
   "outputs": [
    {
     "name": "stdout",
     "output_type": "stream",
     "text": [
      "<class 'pandas.core.frame.DataFrame'>\n",
      "Int64Index: 8113 entries, 0 to 1831\n",
      "Data columns (total 6 columns):\n",
      " #   Column  Non-Null Count  Dtype  \n",
      "---  ------  --------------  -----  \n",
      " 0   title   8113 non-null   object \n",
      " 1   url     8113 non-null   object \n",
      " 2   text    8113 non-null   object \n",
      " 3   score   6359 non-null   float64\n",
      " 4   date    8113 non-null   object \n",
      " 5   label   8113 non-null   object \n",
      "dtypes: float64(1), object(5)\n",
      "memory usage: 443.7+ KB\n"
     ]
    }
   ],
   "source": [
    "reviews_df.info()"
   ]
  },
  {
   "cell_type": "markdown",
   "metadata": {},
   "source": [
    "Сохраним созданный df в формате csv (без индекса): "
   ]
  },
  {
   "cell_type": "code",
   "execution_count": 24,
   "metadata": {},
   "outputs": [],
   "source": [
    "reviews_df.to_csv('rshb_reviews.csv', index=False)"
   ]
  },
  {
   "cell_type": "markdown",
   "metadata": {},
   "source": [
    "Таким образом, были получены все отзывы по четырем классам услуг с сайта banki.ru. При необходимости можно расширить выборку, добавив ссылку и label для нового класса. "
   ]
  }
 ],
 "metadata": {
  "kernelspec": {
   "display_name": "Python 3",
   "language": "python",
   "name": "python3"
  },
  "language_info": {
   "codemirror_mode": {
    "name": "ipython",
    "version": 3
   },
   "file_extension": ".py",
   "mimetype": "text/x-python",
   "name": "python",
   "nbconvert_exporter": "python",
   "pygments_lexer": "ipython3",
   "version": "3.8.3"
  }
 },
 "nbformat": 4,
 "nbformat_minor": 4
}
